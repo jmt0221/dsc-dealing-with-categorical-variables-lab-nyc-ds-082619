{
 "cells": [
  {
   "cell_type": "markdown",
   "metadata": {},
   "source": [
    "# Dealing with Categorical Variables - Lab"
   ]
  },
  {
   "cell_type": "markdown",
   "metadata": {},
   "source": [
    "## Introduction\n",
    "In this lab, you'll explore the Boston Housing dataset for categorical variables, and you'll transform your data so you'll be able to use categorical data as predictors!"
   ]
  },
  {
   "cell_type": "markdown",
   "metadata": {},
   "source": [
    "## Objectives\n",
    "You will be able to:\n",
    "* Identify and inspect the categorical variables in the Boston housing dataset \n",
    "* Categorize inputs that aren't categorical \n",
    "* Create new datasets with dummy variables  "
   ]
  },
  {
   "cell_type": "markdown",
   "metadata": {},
   "source": [
    "## Importing the Boston Housing dataset"
   ]
  },
  {
   "cell_type": "markdown",
   "metadata": {},
   "source": [
    "Let's start by importing the Boston Housing dataset. This dataset is available in Scikit-Learn, and can be imported by running the cell below: "
   ]
  },
  {
   "cell_type": "code",
   "execution_count": 1,
   "metadata": {},
   "outputs": [],
   "source": [
    "import pandas as pd\n",
    "from sklearn.datasets import load_boston\n",
    "boston = load_boston()"
   ]
  },
  {
   "cell_type": "markdown",
   "metadata": {},
   "source": [
    "If you'll inspect `boston` now, you'll see that this basically returns a dictionary. Let's have a look at what exactly is stored in the dictionary by looking at the dictionary keys: "
   ]
  },
  {
   "cell_type": "code",
   "execution_count": 2,
   "metadata": {
    "scrolled": true
   },
   "outputs": [
    {
     "name": "stdout",
     "output_type": "stream",
     "text": [
      "{'data': array([[6.3200e-03, 1.8000e+01, 2.3100e+00, ..., 1.5300e+01, 3.9690e+02,\n",
      "        4.9800e+00],\n",
      "       [2.7310e-02, 0.0000e+00, 7.0700e+00, ..., 1.7800e+01, 3.9690e+02,\n",
      "        9.1400e+00],\n",
      "       [2.7290e-02, 0.0000e+00, 7.0700e+00, ..., 1.7800e+01, 3.9283e+02,\n",
      "        4.0300e+00],\n",
      "       ...,\n",
      "       [6.0760e-02, 0.0000e+00, 1.1930e+01, ..., 2.1000e+01, 3.9690e+02,\n",
      "        5.6400e+00],\n",
      "       [1.0959e-01, 0.0000e+00, 1.1930e+01, ..., 2.1000e+01, 3.9345e+02,\n",
      "        6.4800e+00],\n",
      "       [4.7410e-02, 0.0000e+00, 1.1930e+01, ..., 2.1000e+01, 3.9690e+02,\n",
      "        7.8800e+00]]), 'target': array([24. , 21.6, 34.7, 33.4, 36.2, 28.7, 22.9, 27.1, 16.5, 18.9, 15. ,\n",
      "       18.9, 21.7, 20.4, 18.2, 19.9, 23.1, 17.5, 20.2, 18.2, 13.6, 19.6,\n",
      "       15.2, 14.5, 15.6, 13.9, 16.6, 14.8, 18.4, 21. , 12.7, 14.5, 13.2,\n",
      "       13.1, 13.5, 18.9, 20. , 21. , 24.7, 30.8, 34.9, 26.6, 25.3, 24.7,\n",
      "       21.2, 19.3, 20. , 16.6, 14.4, 19.4, 19.7, 20.5, 25. , 23.4, 18.9,\n",
      "       35.4, 24.7, 31.6, 23.3, 19.6, 18.7, 16. , 22.2, 25. , 33. , 23.5,\n",
      "       19.4, 22. , 17.4, 20.9, 24.2, 21.7, 22.8, 23.4, 24.1, 21.4, 20. ,\n",
      "       20.8, 21.2, 20.3, 28. , 23.9, 24.8, 22.9, 23.9, 26.6, 22.5, 22.2,\n",
      "       23.6, 28.7, 22.6, 22. , 22.9, 25. , 20.6, 28.4, 21.4, 38.7, 43.8,\n",
      "       33.2, 27.5, 26.5, 18.6, 19.3, 20.1, 19.5, 19.5, 20.4, 19.8, 19.4,\n",
      "       21.7, 22.8, 18.8, 18.7, 18.5, 18.3, 21.2, 19.2, 20.4, 19.3, 22. ,\n",
      "       20.3, 20.5, 17.3, 18.8, 21.4, 15.7, 16.2, 18. , 14.3, 19.2, 19.6,\n",
      "       23. , 18.4, 15.6, 18.1, 17.4, 17.1, 13.3, 17.8, 14. , 14.4, 13.4,\n",
      "       15.6, 11.8, 13.8, 15.6, 14.6, 17.8, 15.4, 21.5, 19.6, 15.3, 19.4,\n",
      "       17. , 15.6, 13.1, 41.3, 24.3, 23.3, 27. , 50. , 50. , 50. , 22.7,\n",
      "       25. , 50. , 23.8, 23.8, 22.3, 17.4, 19.1, 23.1, 23.6, 22.6, 29.4,\n",
      "       23.2, 24.6, 29.9, 37.2, 39.8, 36.2, 37.9, 32.5, 26.4, 29.6, 50. ,\n",
      "       32. , 29.8, 34.9, 37. , 30.5, 36.4, 31.1, 29.1, 50. , 33.3, 30.3,\n",
      "       34.6, 34.9, 32.9, 24.1, 42.3, 48.5, 50. , 22.6, 24.4, 22.5, 24.4,\n",
      "       20. , 21.7, 19.3, 22.4, 28.1, 23.7, 25. , 23.3, 28.7, 21.5, 23. ,\n",
      "       26.7, 21.7, 27.5, 30.1, 44.8, 50. , 37.6, 31.6, 46.7, 31.5, 24.3,\n",
      "       31.7, 41.7, 48.3, 29. , 24. , 25.1, 31.5, 23.7, 23.3, 22. , 20.1,\n",
      "       22.2, 23.7, 17.6, 18.5, 24.3, 20.5, 24.5, 26.2, 24.4, 24.8, 29.6,\n",
      "       42.8, 21.9, 20.9, 44. , 50. , 36. , 30.1, 33.8, 43.1, 48.8, 31. ,\n",
      "       36.5, 22.8, 30.7, 50. , 43.5, 20.7, 21.1, 25.2, 24.4, 35.2, 32.4,\n",
      "       32. , 33.2, 33.1, 29.1, 35.1, 45.4, 35.4, 46. , 50. , 32.2, 22. ,\n",
      "       20.1, 23.2, 22.3, 24.8, 28.5, 37.3, 27.9, 23.9, 21.7, 28.6, 27.1,\n",
      "       20.3, 22.5, 29. , 24.8, 22. , 26.4, 33.1, 36.1, 28.4, 33.4, 28.2,\n",
      "       22.8, 20.3, 16.1, 22.1, 19.4, 21.6, 23.8, 16.2, 17.8, 19.8, 23.1,\n",
      "       21. , 23.8, 23.1, 20.4, 18.5, 25. , 24.6, 23. , 22.2, 19.3, 22.6,\n",
      "       19.8, 17.1, 19.4, 22.2, 20.7, 21.1, 19.5, 18.5, 20.6, 19. , 18.7,\n",
      "       32.7, 16.5, 23.9, 31.2, 17.5, 17.2, 23.1, 24.5, 26.6, 22.9, 24.1,\n",
      "       18.6, 30.1, 18.2, 20.6, 17.8, 21.7, 22.7, 22.6, 25. , 19.9, 20.8,\n",
      "       16.8, 21.9, 27.5, 21.9, 23.1, 50. , 50. , 50. , 50. , 50. , 13.8,\n",
      "       13.8, 15. , 13.9, 13.3, 13.1, 10.2, 10.4, 10.9, 11.3, 12.3,  8.8,\n",
      "        7.2, 10.5,  7.4, 10.2, 11.5, 15.1, 23.2,  9.7, 13.8, 12.7, 13.1,\n",
      "       12.5,  8.5,  5. ,  6.3,  5.6,  7.2, 12.1,  8.3,  8.5,  5. , 11.9,\n",
      "       27.9, 17.2, 27.5, 15. , 17.2, 17.9, 16.3,  7. ,  7.2,  7.5, 10.4,\n",
      "        8.8,  8.4, 16.7, 14.2, 20.8, 13.4, 11.7,  8.3, 10.2, 10.9, 11. ,\n",
      "        9.5, 14.5, 14.1, 16.1, 14.3, 11.7, 13.4,  9.6,  8.7,  8.4, 12.8,\n",
      "       10.5, 17.1, 18.4, 15.4, 10.8, 11.8, 14.9, 12.6, 14.1, 13. , 13.4,\n",
      "       15.2, 16.1, 17.8, 14.9, 14.1, 12.7, 13.5, 14.9, 20. , 16.4, 17.7,\n",
      "       19.5, 20.2, 21.4, 19.9, 19. , 19.1, 19.1, 20.1, 19.9, 19.6, 23.2,\n",
      "       29.8, 13.8, 13.3, 16.7, 12. , 14.6, 21.4, 23. , 23.7, 25. , 21.8,\n",
      "       20.6, 21.2, 19.1, 20.6, 15.2,  7. ,  8.1, 13.6, 20.1, 21.8, 24.5,\n",
      "       23.1, 19.7, 18.3, 21.2, 17.5, 16.8, 22.4, 20.6, 23.9, 22. , 11.9]), 'feature_names': array(['CRIM', 'ZN', 'INDUS', 'CHAS', 'NOX', 'RM', 'AGE', 'DIS', 'RAD',\n",
      "       'TAX', 'PTRATIO', 'B', 'LSTAT'], dtype='<U7'), 'DESCR': \".. _boston_dataset:\\n\\nBoston house prices dataset\\n---------------------------\\n\\n**Data Set Characteristics:**  \\n\\n    :Number of Instances: 506 \\n\\n    :Number of Attributes: 13 numeric/categorical predictive. Median Value (attribute 14) is usually the target.\\n\\n    :Attribute Information (in order):\\n        - CRIM     per capita crime rate by town\\n        - ZN       proportion of residential land zoned for lots over 25,000 sq.ft.\\n        - INDUS    proportion of non-retail business acres per town\\n        - CHAS     Charles River dummy variable (= 1 if tract bounds river; 0 otherwise)\\n        - NOX      nitric oxides concentration (parts per 10 million)\\n        - RM       average number of rooms per dwelling\\n        - AGE      proportion of owner-occupied units built prior to 1940\\n        - DIS      weighted distances to five Boston employment centres\\n        - RAD      index of accessibility to radial highways\\n        - TAX      full-value property-tax rate per $10,000\\n        - PTRATIO  pupil-teacher ratio by town\\n        - B        1000(Bk - 0.63)^2 where Bk is the proportion of blacks by town\\n        - LSTAT    % lower status of the population\\n        - MEDV     Median value of owner-occupied homes in $1000's\\n\\n    :Missing Attribute Values: None\\n\\n    :Creator: Harrison, D. and Rubinfeld, D.L.\\n\\nThis is a copy of UCI ML housing dataset.\\nhttps://archive.ics.uci.edu/ml/machine-learning-databases/housing/\\n\\n\\nThis dataset was taken from the StatLib library which is maintained at Carnegie Mellon University.\\n\\nThe Boston house-price data of Harrison, D. and Rubinfeld, D.L. 'Hedonic\\nprices and the demand for clean air', J. Environ. Economics & Management,\\nvol.5, 81-102, 1978.   Used in Belsley, Kuh & Welsch, 'Regression diagnostics\\n...', Wiley, 1980.   N.B. Various transformations are used in the table on\\npages 244-261 of the latter.\\n\\nThe Boston house-price data has been used in many machine learning papers that address regression\\nproblems.   \\n     \\n.. topic:: References\\n\\n   - Belsley, Kuh & Welsch, 'Regression diagnostics: Identifying Influential Data and Sources of Collinearity', Wiley, 1980. 244-261.\\n   - Quinlan,R. (1993). Combining Instance-Based and Model-Based Learning. In Proceedings on the Tenth International Conference of Machine Learning, 236-243, University of Massachusetts, Amherst. Morgan Kaufmann.\\n\", 'filename': '/opt/conda/envs/learn-env/lib/python3.6/site-packages/sklearn/datasets/data/boston_house_prices.csv'}\n"
     ]
    }
   ],
   "source": [
    "# Print boston\n",
    "print(boston)"
   ]
  },
  {
   "cell_type": "code",
   "execution_count": 7,
   "metadata": {},
   "outputs": [
    {
     "data": {
      "text/plain": [
       "array(['CRIM', 'ZN', 'INDUS', 'CHAS', 'NOX', 'RM', 'AGE', 'DIS', 'RAD',\n",
       "       'TAX', 'PTRATIO', 'B', 'LSTAT'], dtype='<U7')"
      ]
     },
     "execution_count": 7,
     "metadata": {},
     "output_type": "execute_result"
    }
   ],
   "source": [
    "# Look at the keys\n",
    "boston['feature_names']"
   ]
  },
  {
   "cell_type": "markdown",
   "metadata": {},
   "source": [
    "Let's create a Pandas DataFrame with the data (which are the features, **not including the target**) and the feature names as column names."
   ]
  },
  {
   "cell_type": "code",
   "execution_count": 8,
   "metadata": {},
   "outputs": [],
   "source": [
    "boston_features = pd.DataFrame(boston['data'])\n",
    "boston_features.columns = ['CRIM', 'ZN', 'INDUS', 'CHAS', 'NOX', 'RM', 'AGE', 'DIS', 'RAD',\n",
    "       'TAX', 'PTRATIO', 'B', 'LSTAT']"
   ]
  },
  {
   "cell_type": "code",
   "execution_count": null,
   "metadata": {},
   "outputs": [],
   "source": []
  },
  {
   "cell_type": "code",
   "execution_count": 9,
   "metadata": {},
   "outputs": [
    {
     "data": {
      "text/html": [
       "<div>\n",
       "<style scoped>\n",
       "    .dataframe tbody tr th:only-of-type {\n",
       "        vertical-align: middle;\n",
       "    }\n",
       "\n",
       "    .dataframe tbody tr th {\n",
       "        vertical-align: top;\n",
       "    }\n",
       "\n",
       "    .dataframe thead th {\n",
       "        text-align: right;\n",
       "    }\n",
       "</style>\n",
       "<table border=\"1\" class=\"dataframe\">\n",
       "  <thead>\n",
       "    <tr style=\"text-align: right;\">\n",
       "      <th></th>\n",
       "      <th>CRIM</th>\n",
       "      <th>ZN</th>\n",
       "      <th>INDUS</th>\n",
       "      <th>CHAS</th>\n",
       "      <th>NOX</th>\n",
       "      <th>RM</th>\n",
       "      <th>AGE</th>\n",
       "      <th>DIS</th>\n",
       "      <th>RAD</th>\n",
       "      <th>TAX</th>\n",
       "      <th>PTRATIO</th>\n",
       "      <th>B</th>\n",
       "      <th>LSTAT</th>\n",
       "    </tr>\n",
       "  </thead>\n",
       "  <tbody>\n",
       "    <tr>\n",
       "      <th>0</th>\n",
       "      <td>0.00632</td>\n",
       "      <td>18.0</td>\n",
       "      <td>2.31</td>\n",
       "      <td>0.0</td>\n",
       "      <td>0.538</td>\n",
       "      <td>6.575</td>\n",
       "      <td>65.2</td>\n",
       "      <td>4.0900</td>\n",
       "      <td>1.0</td>\n",
       "      <td>296.0</td>\n",
       "      <td>15.3</td>\n",
       "      <td>396.90</td>\n",
       "      <td>4.98</td>\n",
       "    </tr>\n",
       "    <tr>\n",
       "      <th>1</th>\n",
       "      <td>0.02731</td>\n",
       "      <td>0.0</td>\n",
       "      <td>7.07</td>\n",
       "      <td>0.0</td>\n",
       "      <td>0.469</td>\n",
       "      <td>6.421</td>\n",
       "      <td>78.9</td>\n",
       "      <td>4.9671</td>\n",
       "      <td>2.0</td>\n",
       "      <td>242.0</td>\n",
       "      <td>17.8</td>\n",
       "      <td>396.90</td>\n",
       "      <td>9.14</td>\n",
       "    </tr>\n",
       "    <tr>\n",
       "      <th>2</th>\n",
       "      <td>0.02729</td>\n",
       "      <td>0.0</td>\n",
       "      <td>7.07</td>\n",
       "      <td>0.0</td>\n",
       "      <td>0.469</td>\n",
       "      <td>7.185</td>\n",
       "      <td>61.1</td>\n",
       "      <td>4.9671</td>\n",
       "      <td>2.0</td>\n",
       "      <td>242.0</td>\n",
       "      <td>17.8</td>\n",
       "      <td>392.83</td>\n",
       "      <td>4.03</td>\n",
       "    </tr>\n",
       "    <tr>\n",
       "      <th>3</th>\n",
       "      <td>0.03237</td>\n",
       "      <td>0.0</td>\n",
       "      <td>2.18</td>\n",
       "      <td>0.0</td>\n",
       "      <td>0.458</td>\n",
       "      <td>6.998</td>\n",
       "      <td>45.8</td>\n",
       "      <td>6.0622</td>\n",
       "      <td>3.0</td>\n",
       "      <td>222.0</td>\n",
       "      <td>18.7</td>\n",
       "      <td>394.63</td>\n",
       "      <td>2.94</td>\n",
       "    </tr>\n",
       "    <tr>\n",
       "      <th>4</th>\n",
       "      <td>0.06905</td>\n",
       "      <td>0.0</td>\n",
       "      <td>2.18</td>\n",
       "      <td>0.0</td>\n",
       "      <td>0.458</td>\n",
       "      <td>7.147</td>\n",
       "      <td>54.2</td>\n",
       "      <td>6.0622</td>\n",
       "      <td>3.0</td>\n",
       "      <td>222.0</td>\n",
       "      <td>18.7</td>\n",
       "      <td>396.90</td>\n",
       "      <td>5.33</td>\n",
       "    </tr>\n",
       "  </tbody>\n",
       "</table>\n",
       "</div>"
      ],
      "text/plain": [
       "      CRIM    ZN  INDUS  CHAS    NOX     RM   AGE     DIS  RAD    TAX  \\\n",
       "0  0.00632  18.0   2.31   0.0  0.538  6.575  65.2  4.0900  1.0  296.0   \n",
       "1  0.02731   0.0   7.07   0.0  0.469  6.421  78.9  4.9671  2.0  242.0   \n",
       "2  0.02729   0.0   7.07   0.0  0.469  7.185  61.1  4.9671  2.0  242.0   \n",
       "3  0.03237   0.0   2.18   0.0  0.458  6.998  45.8  6.0622  3.0  222.0   \n",
       "4  0.06905   0.0   2.18   0.0  0.458  7.147  54.2  6.0622  3.0  222.0   \n",
       "\n",
       "   PTRATIO       B  LSTAT  \n",
       "0     15.3  396.90   4.98  \n",
       "1     17.8  396.90   9.14  \n",
       "2     17.8  392.83   4.03  \n",
       "3     18.7  394.63   2.94  \n",
       "4     18.7  396.90   5.33  "
      ]
     },
     "execution_count": 9,
     "metadata": {},
     "output_type": "execute_result"
    }
   ],
   "source": [
    "boston_features.head()"
   ]
  },
  {
   "cell_type": "markdown",
   "metadata": {},
   "source": [
    "Now look at the first five rows of `boston_features`:  "
   ]
  },
  {
   "cell_type": "code",
   "execution_count": null,
   "metadata": {},
   "outputs": [],
   "source": [
    "# Inspect the first few rows"
   ]
  },
  {
   "cell_type": "markdown",
   "metadata": {},
   "source": [
    "For your reference, we copied the attribute information below. Additional information can be found here: http://scikit-learn.org/stable/datasets/index.html#boston-dataset\n",
    "- CRIM: per capita crime rate by town\n",
    "- ZN: proportion of residential land zoned for lots over 25,000 sq.ft.\n",
    "- INDUS: proportion of non-retail business acres per town\n",
    "- CHAS: Charles River dummy variable (= 1 if tract bounds river; 0 otherwise)\n",
    "- NOX: nitric oxides concentration (parts per 10 million)\n",
    "- RM: average number of rooms per dwelling\n",
    "- AGE: proportion of owner-occupied units built prior to 1940\n",
    "- DIS: weighted distances to five Boston employment centres\n",
    "- RAD: index of accessibility to radial highways\n",
    "- TAX: full-value property-tax rate per $10,000\n",
    "- PTRATIO: pupil-teacher ratio by town\n",
    "- B: 1000(Bk - 0.63)^2 where Bk is the proportion of blacks by town\n",
    "- LSTAT: % lower status of the population"
   ]
  },
  {
   "cell_type": "markdown",
   "metadata": {},
   "source": [
    "Recall that the values corresponding to the data key are the features. The target is not included. For this dataset, the target is the median value of owner-occupied homes in $1000s and the values can be accessed using the target key. Using the target key, convert the target to a separate DataFrame and set `'MEDV'` as the column name."
   ]
  },
  {
   "cell_type": "code",
   "execution_count": 15,
   "metadata": {},
   "outputs": [],
   "source": [
    "boston_target = pd.DataFrame(boston['target'])\n",
    "\n",
    "# Inspect the first few rows\n",
    "boston_target.columns = ['medv']"
   ]
  },
  {
   "cell_type": "code",
   "execution_count": null,
   "metadata": {},
   "outputs": [],
   "source": []
  },
  {
   "cell_type": "markdown",
   "metadata": {},
   "source": [
    "The target is described as: \n",
    "- MEDV: Median value of owner-occupied homes in $1000s"
   ]
  },
  {
   "cell_type": "markdown",
   "metadata": {},
   "source": [
    "Next, let's merge the target and the predictors in one DataFrame `boston_df`: "
   ]
  },
  {
   "cell_type": "code",
   "execution_count": 19,
   "metadata": {},
   "outputs": [
    {
     "data": {
      "text/html": [
       "<div>\n",
       "<style scoped>\n",
       "    .dataframe tbody tr th:only-of-type {\n",
       "        vertical-align: middle;\n",
       "    }\n",
       "\n",
       "    .dataframe tbody tr th {\n",
       "        vertical-align: top;\n",
       "    }\n",
       "\n",
       "    .dataframe thead th {\n",
       "        text-align: right;\n",
       "    }\n",
       "</style>\n",
       "<table border=\"1\" class=\"dataframe\">\n",
       "  <thead>\n",
       "    <tr style=\"text-align: right;\">\n",
       "      <th></th>\n",
       "      <th>CRIM</th>\n",
       "      <th>ZN</th>\n",
       "      <th>INDUS</th>\n",
       "      <th>CHAS</th>\n",
       "      <th>NOX</th>\n",
       "      <th>RM</th>\n",
       "      <th>AGE</th>\n",
       "      <th>DIS</th>\n",
       "      <th>RAD</th>\n",
       "      <th>TAX</th>\n",
       "      <th>PTRATIO</th>\n",
       "      <th>B</th>\n",
       "      <th>LSTAT</th>\n",
       "      <th>medv</th>\n",
       "    </tr>\n",
       "  </thead>\n",
       "  <tbody>\n",
       "    <tr>\n",
       "      <th>0</th>\n",
       "      <td>0.00632</td>\n",
       "      <td>18.0</td>\n",
       "      <td>2.31</td>\n",
       "      <td>0.0</td>\n",
       "      <td>0.538</td>\n",
       "      <td>6.575</td>\n",
       "      <td>65.2</td>\n",
       "      <td>4.0900</td>\n",
       "      <td>1.0</td>\n",
       "      <td>296.0</td>\n",
       "      <td>15.3</td>\n",
       "      <td>396.90</td>\n",
       "      <td>4.98</td>\n",
       "      <td>24.0</td>\n",
       "    </tr>\n",
       "    <tr>\n",
       "      <th>1</th>\n",
       "      <td>0.02731</td>\n",
       "      <td>0.0</td>\n",
       "      <td>7.07</td>\n",
       "      <td>0.0</td>\n",
       "      <td>0.469</td>\n",
       "      <td>6.421</td>\n",
       "      <td>78.9</td>\n",
       "      <td>4.9671</td>\n",
       "      <td>2.0</td>\n",
       "      <td>242.0</td>\n",
       "      <td>17.8</td>\n",
       "      <td>396.90</td>\n",
       "      <td>9.14</td>\n",
       "      <td>21.6</td>\n",
       "    </tr>\n",
       "    <tr>\n",
       "      <th>2</th>\n",
       "      <td>0.02729</td>\n",
       "      <td>0.0</td>\n",
       "      <td>7.07</td>\n",
       "      <td>0.0</td>\n",
       "      <td>0.469</td>\n",
       "      <td>7.185</td>\n",
       "      <td>61.1</td>\n",
       "      <td>4.9671</td>\n",
       "      <td>2.0</td>\n",
       "      <td>242.0</td>\n",
       "      <td>17.8</td>\n",
       "      <td>392.83</td>\n",
       "      <td>4.03</td>\n",
       "      <td>34.7</td>\n",
       "    </tr>\n",
       "    <tr>\n",
       "      <th>3</th>\n",
       "      <td>0.03237</td>\n",
       "      <td>0.0</td>\n",
       "      <td>2.18</td>\n",
       "      <td>0.0</td>\n",
       "      <td>0.458</td>\n",
       "      <td>6.998</td>\n",
       "      <td>45.8</td>\n",
       "      <td>6.0622</td>\n",
       "      <td>3.0</td>\n",
       "      <td>222.0</td>\n",
       "      <td>18.7</td>\n",
       "      <td>394.63</td>\n",
       "      <td>2.94</td>\n",
       "      <td>33.4</td>\n",
       "    </tr>\n",
       "    <tr>\n",
       "      <th>4</th>\n",
       "      <td>0.06905</td>\n",
       "      <td>0.0</td>\n",
       "      <td>2.18</td>\n",
       "      <td>0.0</td>\n",
       "      <td>0.458</td>\n",
       "      <td>7.147</td>\n",
       "      <td>54.2</td>\n",
       "      <td>6.0622</td>\n",
       "      <td>3.0</td>\n",
       "      <td>222.0</td>\n",
       "      <td>18.7</td>\n",
       "      <td>396.90</td>\n",
       "      <td>5.33</td>\n",
       "      <td>36.2</td>\n",
       "    </tr>\n",
       "  </tbody>\n",
       "</table>\n",
       "</div>"
      ],
      "text/plain": [
       "      CRIM    ZN  INDUS  CHAS    NOX     RM   AGE     DIS  RAD    TAX  \\\n",
       "0  0.00632  18.0   2.31   0.0  0.538  6.575  65.2  4.0900  1.0  296.0   \n",
       "1  0.02731   0.0   7.07   0.0  0.469  6.421  78.9  4.9671  2.0  242.0   \n",
       "2  0.02729   0.0   7.07   0.0  0.469  7.185  61.1  4.9671  2.0  242.0   \n",
       "3  0.03237   0.0   2.18   0.0  0.458  6.998  45.8  6.0622  3.0  222.0   \n",
       "4  0.06905   0.0   2.18   0.0  0.458  7.147  54.2  6.0622  3.0  222.0   \n",
       "\n",
       "   PTRATIO       B  LSTAT  medv  \n",
       "0     15.3  396.90   4.98  24.0  \n",
       "1     17.8  396.90   9.14  21.6  \n",
       "2     17.8  392.83   4.03  34.7  \n",
       "3     18.7  394.63   2.94  33.4  \n",
       "4     18.7  396.90   5.33  36.2  "
      ]
     },
     "execution_count": 19,
     "metadata": {},
     "output_type": "execute_result"
    }
   ],
   "source": [
    "boston_df = pd.concat([boston_features,boston_target],axis=1)\n",
    "boston_df.head()"
   ]
  },
  {
   "cell_type": "markdown",
   "metadata": {},
   "source": [
    "Let's inspect these 13 features using `.describe()` and `.info()`"
   ]
  },
  {
   "cell_type": "code",
   "execution_count": 20,
   "metadata": {},
   "outputs": [
    {
     "data": {
      "text/html": [
       "<div>\n",
       "<style scoped>\n",
       "    .dataframe tbody tr th:only-of-type {\n",
       "        vertical-align: middle;\n",
       "    }\n",
       "\n",
       "    .dataframe tbody tr th {\n",
       "        vertical-align: top;\n",
       "    }\n",
       "\n",
       "    .dataframe thead th {\n",
       "        text-align: right;\n",
       "    }\n",
       "</style>\n",
       "<table border=\"1\" class=\"dataframe\">\n",
       "  <thead>\n",
       "    <tr style=\"text-align: right;\">\n",
       "      <th></th>\n",
       "      <th>CRIM</th>\n",
       "      <th>ZN</th>\n",
       "      <th>INDUS</th>\n",
       "      <th>CHAS</th>\n",
       "      <th>NOX</th>\n",
       "      <th>RM</th>\n",
       "      <th>AGE</th>\n",
       "      <th>DIS</th>\n",
       "      <th>RAD</th>\n",
       "      <th>TAX</th>\n",
       "      <th>PTRATIO</th>\n",
       "      <th>B</th>\n",
       "      <th>LSTAT</th>\n",
       "      <th>medv</th>\n",
       "    </tr>\n",
       "  </thead>\n",
       "  <tbody>\n",
       "    <tr>\n",
       "      <th>count</th>\n",
       "      <td>506.000000</td>\n",
       "      <td>506.000000</td>\n",
       "      <td>506.000000</td>\n",
       "      <td>506.000000</td>\n",
       "      <td>506.000000</td>\n",
       "      <td>506.000000</td>\n",
       "      <td>506.000000</td>\n",
       "      <td>506.000000</td>\n",
       "      <td>506.000000</td>\n",
       "      <td>506.000000</td>\n",
       "      <td>506.000000</td>\n",
       "      <td>506.000000</td>\n",
       "      <td>506.000000</td>\n",
       "      <td>506.000000</td>\n",
       "    </tr>\n",
       "    <tr>\n",
       "      <th>mean</th>\n",
       "      <td>3.613524</td>\n",
       "      <td>11.363636</td>\n",
       "      <td>11.136779</td>\n",
       "      <td>0.069170</td>\n",
       "      <td>0.554695</td>\n",
       "      <td>6.284634</td>\n",
       "      <td>68.574901</td>\n",
       "      <td>3.795043</td>\n",
       "      <td>9.549407</td>\n",
       "      <td>408.237154</td>\n",
       "      <td>18.455534</td>\n",
       "      <td>356.674032</td>\n",
       "      <td>12.653063</td>\n",
       "      <td>22.532806</td>\n",
       "    </tr>\n",
       "    <tr>\n",
       "      <th>std</th>\n",
       "      <td>8.601545</td>\n",
       "      <td>23.322453</td>\n",
       "      <td>6.860353</td>\n",
       "      <td>0.253994</td>\n",
       "      <td>0.115878</td>\n",
       "      <td>0.702617</td>\n",
       "      <td>28.148861</td>\n",
       "      <td>2.105710</td>\n",
       "      <td>8.707259</td>\n",
       "      <td>168.537116</td>\n",
       "      <td>2.164946</td>\n",
       "      <td>91.294864</td>\n",
       "      <td>7.141062</td>\n",
       "      <td>9.197104</td>\n",
       "    </tr>\n",
       "    <tr>\n",
       "      <th>min</th>\n",
       "      <td>0.006320</td>\n",
       "      <td>0.000000</td>\n",
       "      <td>0.460000</td>\n",
       "      <td>0.000000</td>\n",
       "      <td>0.385000</td>\n",
       "      <td>3.561000</td>\n",
       "      <td>2.900000</td>\n",
       "      <td>1.129600</td>\n",
       "      <td>1.000000</td>\n",
       "      <td>187.000000</td>\n",
       "      <td>12.600000</td>\n",
       "      <td>0.320000</td>\n",
       "      <td>1.730000</td>\n",
       "      <td>5.000000</td>\n",
       "    </tr>\n",
       "    <tr>\n",
       "      <th>25%</th>\n",
       "      <td>0.082045</td>\n",
       "      <td>0.000000</td>\n",
       "      <td>5.190000</td>\n",
       "      <td>0.000000</td>\n",
       "      <td>0.449000</td>\n",
       "      <td>5.885500</td>\n",
       "      <td>45.025000</td>\n",
       "      <td>2.100175</td>\n",
       "      <td>4.000000</td>\n",
       "      <td>279.000000</td>\n",
       "      <td>17.400000</td>\n",
       "      <td>375.377500</td>\n",
       "      <td>6.950000</td>\n",
       "      <td>17.025000</td>\n",
       "    </tr>\n",
       "    <tr>\n",
       "      <th>50%</th>\n",
       "      <td>0.256510</td>\n",
       "      <td>0.000000</td>\n",
       "      <td>9.690000</td>\n",
       "      <td>0.000000</td>\n",
       "      <td>0.538000</td>\n",
       "      <td>6.208500</td>\n",
       "      <td>77.500000</td>\n",
       "      <td>3.207450</td>\n",
       "      <td>5.000000</td>\n",
       "      <td>330.000000</td>\n",
       "      <td>19.050000</td>\n",
       "      <td>391.440000</td>\n",
       "      <td>11.360000</td>\n",
       "      <td>21.200000</td>\n",
       "    </tr>\n",
       "    <tr>\n",
       "      <th>75%</th>\n",
       "      <td>3.677083</td>\n",
       "      <td>12.500000</td>\n",
       "      <td>18.100000</td>\n",
       "      <td>0.000000</td>\n",
       "      <td>0.624000</td>\n",
       "      <td>6.623500</td>\n",
       "      <td>94.075000</td>\n",
       "      <td>5.188425</td>\n",
       "      <td>24.000000</td>\n",
       "      <td>666.000000</td>\n",
       "      <td>20.200000</td>\n",
       "      <td>396.225000</td>\n",
       "      <td>16.955000</td>\n",
       "      <td>25.000000</td>\n",
       "    </tr>\n",
       "    <tr>\n",
       "      <th>max</th>\n",
       "      <td>88.976200</td>\n",
       "      <td>100.000000</td>\n",
       "      <td>27.740000</td>\n",
       "      <td>1.000000</td>\n",
       "      <td>0.871000</td>\n",
       "      <td>8.780000</td>\n",
       "      <td>100.000000</td>\n",
       "      <td>12.126500</td>\n",
       "      <td>24.000000</td>\n",
       "      <td>711.000000</td>\n",
       "      <td>22.000000</td>\n",
       "      <td>396.900000</td>\n",
       "      <td>37.970000</td>\n",
       "      <td>50.000000</td>\n",
       "    </tr>\n",
       "  </tbody>\n",
       "</table>\n",
       "</div>"
      ],
      "text/plain": [
       "             CRIM          ZN       INDUS        CHAS         NOX          RM  \\\n",
       "count  506.000000  506.000000  506.000000  506.000000  506.000000  506.000000   \n",
       "mean     3.613524   11.363636   11.136779    0.069170    0.554695    6.284634   \n",
       "std      8.601545   23.322453    6.860353    0.253994    0.115878    0.702617   \n",
       "min      0.006320    0.000000    0.460000    0.000000    0.385000    3.561000   \n",
       "25%      0.082045    0.000000    5.190000    0.000000    0.449000    5.885500   \n",
       "50%      0.256510    0.000000    9.690000    0.000000    0.538000    6.208500   \n",
       "75%      3.677083   12.500000   18.100000    0.000000    0.624000    6.623500   \n",
       "max     88.976200  100.000000   27.740000    1.000000    0.871000    8.780000   \n",
       "\n",
       "              AGE         DIS         RAD         TAX     PTRATIO           B  \\\n",
       "count  506.000000  506.000000  506.000000  506.000000  506.000000  506.000000   \n",
       "mean    68.574901    3.795043    9.549407  408.237154   18.455534  356.674032   \n",
       "std     28.148861    2.105710    8.707259  168.537116    2.164946   91.294864   \n",
       "min      2.900000    1.129600    1.000000  187.000000   12.600000    0.320000   \n",
       "25%     45.025000    2.100175    4.000000  279.000000   17.400000  375.377500   \n",
       "50%     77.500000    3.207450    5.000000  330.000000   19.050000  391.440000   \n",
       "75%     94.075000    5.188425   24.000000  666.000000   20.200000  396.225000   \n",
       "max    100.000000   12.126500   24.000000  711.000000   22.000000  396.900000   \n",
       "\n",
       "            LSTAT        medv  \n",
       "count  506.000000  506.000000  \n",
       "mean    12.653063   22.532806  \n",
       "std      7.141062    9.197104  \n",
       "min      1.730000    5.000000  \n",
       "25%      6.950000   17.025000  \n",
       "50%     11.360000   21.200000  \n",
       "75%     16.955000   25.000000  \n",
       "max     37.970000   50.000000  "
      ]
     },
     "execution_count": 20,
     "metadata": {},
     "output_type": "execute_result"
    }
   ],
   "source": [
    "# Use .describe()\n",
    "boston_df.describe()"
   ]
  },
  {
   "cell_type": "code",
   "execution_count": 21,
   "metadata": {},
   "outputs": [
    {
     "name": "stdout",
     "output_type": "stream",
     "text": [
      "<class 'pandas.core.frame.DataFrame'>\n",
      "RangeIndex: 506 entries, 0 to 505\n",
      "Data columns (total 14 columns):\n",
      "CRIM       506 non-null float64\n",
      "ZN         506 non-null float64\n",
      "INDUS      506 non-null float64\n",
      "CHAS       506 non-null float64\n",
      "NOX        506 non-null float64\n",
      "RM         506 non-null float64\n",
      "AGE        506 non-null float64\n",
      "DIS        506 non-null float64\n",
      "RAD        506 non-null float64\n",
      "TAX        506 non-null float64\n",
      "PTRATIO    506 non-null float64\n",
      "B          506 non-null float64\n",
      "LSTAT      506 non-null float64\n",
      "medv       506 non-null float64\n",
      "dtypes: float64(14)\n",
      "memory usage: 55.4 KB\n"
     ]
    }
   ],
   "source": [
    "# Use .info()\n",
    "boston_df.info()"
   ]
  },
  {
   "cell_type": "markdown",
   "metadata": {},
   "source": [
    "Now, take a look at the scatter plots for each predictor with the target on the y-axis."
   ]
  },
  {
   "cell_type": "code",
   "execution_count": null,
   "metadata": {},
   "outputs": [
    {
     "data": {
      "text/plain": [
       "array([[<matplotlib.axes._subplots.AxesSubplot object at 0x7fe126fa1c18>,\n",
       "        <matplotlib.axes._subplots.AxesSubplot object at 0x7fe126f383c8>,\n",
       "        <matplotlib.axes._subplots.AxesSubplot object at 0x7fe126cc8940>,\n",
       "        <matplotlib.axes._subplots.AxesSubplot object at 0x7fe126c6feb8>,\n",
       "        <matplotlib.axes._subplots.AxesSubplot object at 0x7fe126ca1470>,\n",
       "        <matplotlib.axes._subplots.AxesSubplot object at 0x7fe126c469e8>,\n",
       "        <matplotlib.axes._subplots.AxesSubplot object at 0x7fe126bedf60>,\n",
       "        <matplotlib.axes._subplots.AxesSubplot object at 0x7fe126c1d550>,\n",
       "        <matplotlib.axes._subplots.AxesSubplot object at 0x7fe126c1d588>,\n",
       "        <matplotlib.axes._subplots.AxesSubplot object at 0x7fe126b74048>,\n",
       "        <matplotlib.axes._subplots.AxesSubplot object at 0x7fe126b995c0>,\n",
       "        <matplotlib.axes._subplots.AxesSubplot object at 0x7fe126b40b38>,\n",
       "        <matplotlib.axes._subplots.AxesSubplot object at 0x7fe126af20f0>,\n",
       "        <matplotlib.axes._subplots.AxesSubplot object at 0x7fe126b17668>],\n",
       "       [<matplotlib.axes._subplots.AxesSubplot object at 0x7fe126abfbe0>,\n",
       "        <matplotlib.axes._subplots.AxesSubplot object at 0x7fe126a70198>,\n",
       "        <matplotlib.axes._subplots.AxesSubplot object at 0x7fe126a94710>,\n",
       "        <matplotlib.axes._subplots.AxesSubplot object at 0x7fe126a3cc88>,\n",
       "        <matplotlib.axes._subplots.AxesSubplot object at 0x7fe1269ec240>,\n",
       "        <matplotlib.axes._subplots.AxesSubplot object at 0x7fe126a127b8>,\n",
       "        <matplotlib.axes._subplots.AxesSubplot object at 0x7fe1269bad30>,\n",
       "        <matplotlib.axes._subplots.AxesSubplot object at 0x7fe1269682e8>,\n",
       "        <matplotlib.axes._subplots.AxesSubplot object at 0x7fe126991860>,\n",
       "        <matplotlib.axes._subplots.AxesSubplot object at 0x7fe126936dd8>,\n",
       "        <matplotlib.axes._subplots.AxesSubplot object at 0x7fe1268e7390>,\n",
       "        <matplotlib.axes._subplots.AxesSubplot object at 0x7fe12690d908>,\n",
       "        <matplotlib.axes._subplots.AxesSubplot object at 0x7fe1268b4e80>,\n",
       "        <matplotlib.axes._subplots.AxesSubplot object at 0x7fe1268e3438>],\n",
       "       [<matplotlib.axes._subplots.AxesSubplot object at 0x7fe1268899b0>,\n",
       "        <matplotlib.axes._subplots.AxesSubplot object at 0x7fe126f7c550>,\n",
       "        <matplotlib.axes._subplots.AxesSubplot object at 0x7fe12684bac8>,\n",
       "        <matplotlib.axes._subplots.AxesSubplot object at 0x7fe1267fc080>,\n",
       "        <matplotlib.axes._subplots.AxesSubplot object at 0x7fe1268235f8>,\n",
       "        <matplotlib.axes._subplots.AxesSubplot object at 0x7fe1267cbb70>,\n",
       "        <matplotlib.axes._subplots.AxesSubplot object at 0x7fe12677a128>,\n",
       "        <matplotlib.axes._subplots.AxesSubplot object at 0x7fe1267a26a0>,\n",
       "        <matplotlib.axes._subplots.AxesSubplot object at 0x7fe126749c18>,\n",
       "        <matplotlib.axes._subplots.AxesSubplot object at 0x7fe1266f91d0>,\n",
       "        <matplotlib.axes._subplots.AxesSubplot object at 0x7fe126721748>,\n",
       "        <matplotlib.axes._subplots.AxesSubplot object at 0x7fe1266c8cc0>,\n",
       "        <matplotlib.axes._subplots.AxesSubplot object at 0x7fe12667a278>,\n",
       "        <matplotlib.axes._subplots.AxesSubplot object at 0x7fe1266a17f0>],\n",
       "       [<matplotlib.axes._subplots.AxesSubplot object at 0x7fe126648d68>,\n",
       "        <matplotlib.axes._subplots.AxesSubplot object at 0x7fe1265f9320>,\n",
       "        <matplotlib.axes._subplots.AxesSubplot object at 0x7fe12661f898>,\n",
       "        <matplotlib.axes._subplots.AxesSubplot object at 0x7fe1265c6e10>,\n",
       "        <matplotlib.axes._subplots.AxesSubplot object at 0x7fe1265763c8>,\n",
       "        <matplotlib.axes._subplots.AxesSubplot object at 0x7fe12659f940>,\n",
       "        <matplotlib.axes._subplots.AxesSubplot object at 0x7fe126546eb8>,\n",
       "        <matplotlib.axes._subplots.AxesSubplot object at 0x7fe1264f6470>,\n",
       "        <matplotlib.axes._subplots.AxesSubplot object at 0x7fe1265209e8>,\n",
       "        <matplotlib.axes._subplots.AxesSubplot object at 0x7fe1264c6f60>,\n",
       "        <matplotlib.axes._subplots.AxesSubplot object at 0x7fe126477518>,\n",
       "        <matplotlib.axes._subplots.AxesSubplot object at 0x7fe12649ba90>,\n",
       "        <matplotlib.axes._subplots.AxesSubplot object at 0x7fe126427048>,\n",
       "        <matplotlib.axes._subplots.AxesSubplot object at 0x7fe1263f45c0>],\n",
       "       [<matplotlib.axes._subplots.AxesSubplot object at 0x7fe12641ab38>,\n",
       "        <matplotlib.axes._subplots.AxesSubplot object at 0x7fe1263cd0f0>,\n",
       "        <matplotlib.axes._subplots.AxesSubplot object at 0x7fe126376668>,\n",
       "        <matplotlib.axes._subplots.AxesSubplot object at 0x7fe12639cbe0>,\n",
       "        <matplotlib.axes._subplots.AxesSubplot object at 0x7fe12634d198>,\n",
       "        <matplotlib.axes._subplots.AxesSubplot object at 0x7fe1262f2710>,\n",
       "        <matplotlib.axes._subplots.AxesSubplot object at 0x7fe126319c88>,\n",
       "        <matplotlib.axes._subplots.AxesSubplot object at 0x7fe1262cb240>,\n",
       "        <matplotlib.axes._subplots.AxesSubplot object at 0x7fe1262717b8>,\n",
       "        <matplotlib.axes._subplots.AxesSubplot object at 0x7fe12629ad30>,\n",
       "        <matplotlib.axes._subplots.AxesSubplot object at 0x7fe12624c2e8>,\n",
       "        <matplotlib.axes._subplots.AxesSubplot object at 0x7fe1261f2860>,\n",
       "        <matplotlib.axes._subplots.AxesSubplot object at 0x7fe126219dd8>,\n",
       "        <matplotlib.axes._subplots.AxesSubplot object at 0x7fe1261ca390>],\n",
       "       [<matplotlib.axes._subplots.AxesSubplot object at 0x7fe12616f908>,\n",
       "        <matplotlib.axes._subplots.AxesSubplot object at 0x7fe126199e80>,\n",
       "        <matplotlib.axes._subplots.AxesSubplot object at 0x7fe126149438>,\n",
       "        <matplotlib.axes._subplots.AxesSubplot object at 0x7fe1260f09b0>,\n",
       "        <matplotlib.axes._subplots.AxesSubplot object at 0x7fe126117f28>,\n",
       "        <matplotlib.axes._subplots.AxesSubplot object at 0x7fe1260c64e0>,\n",
       "        <matplotlib.axes._subplots.AxesSubplot object at 0x7fe12606fa58>,\n",
       "        <matplotlib.axes._subplots.AxesSubplot object at 0x7fe126097fd0>,\n",
       "        <matplotlib.axes._subplots.AxesSubplot object at 0x7fe126048588>,\n",
       "        <matplotlib.axes._subplots.AxesSubplot object at 0x7fe125fefb00>,\n",
       "        <matplotlib.axes._subplots.AxesSubplot object at 0x7fe1260210b8>,\n",
       "        <matplotlib.axes._subplots.AxesSubplot object at 0x7fe125fc6630>,\n",
       "        <matplotlib.axes._subplots.AxesSubplot object at 0x7fe125f6cba8>,\n",
       "        <matplotlib.axes._subplots.AxesSubplot object at 0x7fe125f9e160>],\n",
       "       [<matplotlib.axes._subplots.AxesSubplot object at 0x7fe125f466d8>,\n",
       "        <matplotlib.axes._subplots.AxesSubplot object at 0x7fe125eedc50>,\n",
       "        <matplotlib.axes._subplots.AxesSubplot object at 0x7fe125f1f208>,\n",
       "        <matplotlib.axes._subplots.AxesSubplot object at 0x7fe125ec5780>,\n",
       "        <matplotlib.axes._subplots.AxesSubplot object at 0x7fe125e6dcf8>,\n",
       "        <matplotlib.axes._subplots.AxesSubplot object at 0x7fe125e9e2b0>,\n",
       "        <matplotlib.axes._subplots.AxesSubplot object at 0x7fe125e43828>,\n",
       "        <matplotlib.axes._subplots.AxesSubplot object at 0x7fe125decda0>,\n",
       "        <matplotlib.axes._subplots.AxesSubplot object at 0x7fe125e1b358>,\n",
       "        <matplotlib.axes._subplots.AxesSubplot object at 0x7fe125dc48d0>,\n",
       "        <matplotlib.axes._subplots.AxesSubplot object at 0x7fe125d6be48>,\n",
       "        <matplotlib.axes._subplots.AxesSubplot object at 0x7fe125d9d400>,\n",
       "        <matplotlib.axes._subplots.AxesSubplot object at 0x7fe125d43978>,\n",
       "        <matplotlib.axes._subplots.AxesSubplot object at 0x7fe125cecef0>],\n",
       "       [<matplotlib.axes._subplots.AxesSubplot object at 0x7fe125d1c4a8>,\n",
       "        <matplotlib.axes._subplots.AxesSubplot object at 0x7fe125cc3a20>,\n",
       "        <matplotlib.axes._subplots.AxesSubplot object at 0x7fe125c6af98>,\n",
       "        <matplotlib.axes._subplots.AxesSubplot object at 0x7fe125c9c550>,\n",
       "        <matplotlib.axes._subplots.AxesSubplot object at 0x7fe125c42ac8>,\n",
       "        <matplotlib.axes._subplots.AxesSubplot object at 0x7fe125bf4080>,\n",
       "        <matplotlib.axes._subplots.AxesSubplot object at 0x7fe125c1c5f8>,\n",
       "        <matplotlib.axes._subplots.AxesSubplot object at 0x7fe125bc1b70>,\n",
       "        <matplotlib.axes._subplots.AxesSubplot object at 0x7fe125b72128>,\n",
       "        <matplotlib.axes._subplots.AxesSubplot object at 0x7fe125b996a0>,\n",
       "        <matplotlib.axes._subplots.AxesSubplot object at 0x7fe125b41c18>,\n",
       "        <matplotlib.axes._subplots.AxesSubplot object at 0x7fe125af11d0>,\n",
       "        <matplotlib.axes._subplots.AxesSubplot object at 0x7fe125b1a748>,\n",
       "        <matplotlib.axes._subplots.AxesSubplot object at 0x7fe125abfcc0>],\n",
       "       [<matplotlib.axes._subplots.AxesSubplot object at 0x7fe125a71278>,\n",
       "        <matplotlib.axes._subplots.AxesSubplot object at 0x7fe125a987f0>,\n",
       "        <matplotlib.axes._subplots.AxesSubplot object at 0x7fe125a40d68>,\n",
       "        <matplotlib.axes._subplots.AxesSubplot object at 0x7fe1259f0320>,\n",
       "        <matplotlib.axes._subplots.AxesSubplot object at 0x7fe125a15898>,\n",
       "        <matplotlib.axes._subplots.AxesSubplot object at 0x7fe1259bfe10>,\n",
       "        <matplotlib.axes._subplots.AxesSubplot object at 0x7fe12596e3c8>,\n",
       "        <matplotlib.axes._subplots.AxesSubplot object at 0x7fe125995940>,\n",
       "        <matplotlib.axes._subplots.AxesSubplot object at 0x7fe12593eeb8>,\n",
       "        <matplotlib.axes._subplots.AxesSubplot object at 0x7fe1258ee470>,\n",
       "        <matplotlib.axes._subplots.AxesSubplot object at 0x7fe1259179e8>,\n",
       "        <matplotlib.axes._subplots.AxesSubplot object at 0x7fe1258bff60>,\n",
       "        <matplotlib.axes._subplots.AxesSubplot object at 0x7fe12586e518>,\n",
       "        <matplotlib.axes._subplots.AxesSubplot object at 0x7fe125894a90>],\n",
       "       [<matplotlib.axes._subplots.AxesSubplot object at 0x7fe125847048>,\n",
       "        <matplotlib.axes._subplots.AxesSubplot object at 0x7fe1257ec5c0>,\n",
       "        <matplotlib.axes._subplots.AxesSubplot object at 0x7fe125813b38>,\n",
       "        <matplotlib.axes._subplots.AxesSubplot object at 0x7fe1257c60f0>,\n",
       "        <matplotlib.axes._subplots.AxesSubplot object at 0x7fe12576d668>,\n",
       "        <matplotlib.axes._subplots.AxesSubplot object at 0x7fe125794be0>,\n",
       "        <matplotlib.axes._subplots.AxesSubplot object at 0x7fe125747198>,\n",
       "        <matplotlib.axes._subplots.AxesSubplot object at 0x7fe1256eb710>,\n",
       "        <matplotlib.axes._subplots.AxesSubplot object at 0x7fe125712c88>,\n",
       "        <matplotlib.axes._subplots.AxesSubplot object at 0x7fe1256c3240>,\n",
       "        <matplotlib.axes._subplots.AxesSubplot object at 0x7fe12566a7b8>,\n",
       "        <matplotlib.axes._subplots.AxesSubplot object at 0x7fe125692d30>,\n",
       "        <matplotlib.axes._subplots.AxesSubplot object at 0x7fe1256422e8>,\n",
       "        <matplotlib.axes._subplots.AxesSubplot object at 0x7fe1255eb860>],\n",
       "       [<matplotlib.axes._subplots.AxesSubplot object at 0x7fe125612dd8>,\n",
       "        <matplotlib.axes._subplots.AxesSubplot object at 0x7fe1255c1390>,\n",
       "        <matplotlib.axes._subplots.AxesSubplot object at 0x7fe125567908>,\n",
       "        <matplotlib.axes._subplots.AxesSubplot object at 0x7fe125590e80>,\n",
       "        <matplotlib.axes._subplots.AxesSubplot object at 0x7fe125541438>,\n",
       "        <matplotlib.axes._subplots.AxesSubplot object at 0x7fe1254e89b0>,\n",
       "        <matplotlib.axes._subplots.AxesSubplot object at 0x7fe12550ff28>,\n",
       "        <matplotlib.axes._subplots.AxesSubplot object at 0x7fe1254c04e0>,\n",
       "        <matplotlib.axes._subplots.AxesSubplot object at 0x7fe125468a58>,\n",
       "        <matplotlib.axes._subplots.AxesSubplot object at 0x7fe125490fd0>,\n",
       "        <matplotlib.axes._subplots.AxesSubplot object at 0x7fe12543f588>,\n",
       "        <matplotlib.axes._subplots.AxesSubplot object at 0x7fe1253e8b00>,\n",
       "        <matplotlib.axes._subplots.AxesSubplot object at 0x7fe1254190b8>,\n",
       "        <matplotlib.axes._subplots.AxesSubplot object at 0x7fe1253bf630>],\n",
       "       [<matplotlib.axes._subplots.AxesSubplot object at 0x7fe1253e5ba8>,\n",
       "        <matplotlib.axes._subplots.AxesSubplot object at 0x7fe125396160>,\n",
       "        <matplotlib.axes._subplots.AxesSubplot object at 0x7fe12533e6d8>,\n",
       "        <matplotlib.axes._subplots.AxesSubplot object at 0x7fe1252e6c50>,\n",
       "        <matplotlib.axes._subplots.AxesSubplot object at 0x7fe125318208>,\n",
       "        <matplotlib.axes._subplots.AxesSubplot object at 0x7fe1252bf780>,\n",
       "        <matplotlib.axes._subplots.AxesSubplot object at 0x7fe1252e5cf8>,\n",
       "        <matplotlib.axes._subplots.AxesSubplot object at 0x7fe1252952b0>,\n",
       "        <matplotlib.axes._subplots.AxesSubplot object at 0x7fe12523d828>,\n",
       "        <matplotlib.axes._subplots.AxesSubplot object at 0x7fe125264da0>,\n",
       "        <matplotlib.axes._subplots.AxesSubplot object at 0x7fe125214358>,\n",
       "        <matplotlib.axes._subplots.AxesSubplot object at 0x7fe1251bb8d0>,\n",
       "        <matplotlib.axes._subplots.AxesSubplot object at 0x7fe1251e4e48>,\n",
       "        <matplotlib.axes._subplots.AxesSubplot object at 0x7fe125194400>],\n",
       "       [<matplotlib.axes._subplots.AxesSubplot object at 0x7fe12513a978>,\n",
       "        <matplotlib.axes._subplots.AxesSubplot object at 0x7fe125164ef0>,\n",
       "        <matplotlib.axes._subplots.AxesSubplot object at 0x7fe1251154a8>,\n",
       "        <matplotlib.axes._subplots.AxesSubplot object at 0x7fe1250b9a20>,\n",
       "        <matplotlib.axes._subplots.AxesSubplot object at 0x7fe1250e3f98>,\n",
       "        <matplotlib.axes._subplots.AxesSubplot object at 0x7fe125092550>,\n",
       "        <matplotlib.axes._subplots.AxesSubplot object at 0x7fe125038ac8>,\n",
       "        <matplotlib.axes._subplots.AxesSubplot object at 0x7fe124fec080>,\n",
       "        <matplotlib.axes._subplots.AxesSubplot object at 0x7fe1250135f8>,\n",
       "        <matplotlib.axes._subplots.AxesSubplot object at 0x7fe124fbab70>,\n",
       "        <matplotlib.axes._subplots.AxesSubplot object at 0x7fe124f6a128>,\n",
       "        <matplotlib.axes._subplots.AxesSubplot object at 0x7fe124f8e6a0>,\n",
       "        <matplotlib.axes._subplots.AxesSubplot object at 0x7fe124f38c18>,\n",
       "        <matplotlib.axes._subplots.AxesSubplot object at 0x7fe124ee81d0>],\n",
       "       [<matplotlib.axes._subplots.AxesSubplot object at 0x7fe124f12748>,\n",
       "        <matplotlib.axes._subplots.AxesSubplot object at 0x7fe124eb9cc0>,\n",
       "        <matplotlib.axes._subplots.AxesSubplot object at 0x7fe124e68278>,\n",
       "        <matplotlib.axes._subplots.AxesSubplot object at 0x7fe124e917f0>,\n",
       "        <matplotlib.axes._subplots.AxesSubplot object at 0x7fe124e38d68>,\n",
       "        <matplotlib.axes._subplots.AxesSubplot object at 0x7fe124de9320>,\n",
       "        <matplotlib.axes._subplots.AxesSubplot object at 0x7fe124e11898>,\n",
       "        <matplotlib.axes._subplots.AxesSubplot object at 0x7fe124db8e10>,\n",
       "        <matplotlib.axes._subplots.AxesSubplot object at 0x7fe124d663c8>,\n",
       "        <matplotlib.axes._subplots.AxesSubplot object at 0x7fe124d8f940>,\n",
       "        <matplotlib.axes._subplots.AxesSubplot object at 0x7fe124d35eb8>,\n",
       "        <matplotlib.axes._subplots.AxesSubplot object at 0x7fe124ce7470>,\n",
       "        <matplotlib.axes._subplots.AxesSubplot object at 0x7fe124d0e9e8>,\n",
       "        <matplotlib.axes._subplots.AxesSubplot object at 0x7fe124cb8f60>]],\n",
       "      dtype=object)"
      ]
     },
     "execution_count": 24,
     "metadata": {},
     "output_type": "execute_result"
    }
   ],
   "source": [
    "import matplotlib.pyplot as plt\n",
    "%matplotlib inline\n",
    "\n",
    "# Create scatter plots\n",
    "pd.plotting.scatter_matrix(boston_df)"
   ]
  },
  {
   "cell_type": "markdown",
   "metadata": {},
   "source": [
    "## To categorical: binning"
   ]
  },
  {
   "cell_type": "markdown",
   "metadata": {},
   "source": [
    "If you created your scatterplots correctly, you'll notice that except for `CHAS` (the Charles River Dummy variable), there is clearly no categorical data. You will have seen though that `RAD` and `TAX` have more of a vertical-looking structure like the one seen in the lesson, and that there is less of a \"cloud\"-looking structure compared to most other variables. It is difficult to justify a linear pattern between predictor and target here. In this situation, it might make sense to restructure data into bins so that they're treated as categorical variables. We'll start by showing how this can be done for `RAD` and then it's your turn to do this for `TAX`."
   ]
  },
  {
   "cell_type": "markdown",
   "metadata": {},
   "source": [
    "### RAD"
   ]
  },
  {
   "cell_type": "markdown",
   "metadata": {},
   "source": [
    "Look at the structure of `RAD` to decide how to create your bins. "
   ]
  },
  {
   "cell_type": "code",
   "execution_count": null,
   "metadata": {},
   "outputs": [],
   "source": [
    "# Your code here\n"
   ]
  },
  {
   "cell_type": "code",
   "execution_count": null,
   "metadata": {},
   "outputs": [],
   "source": [
    "# First, create bins based on the values observed. 5 values will result in 4 bins\n",
    "bins = [0, 3, 4 , 5, 24]\n",
    "\n",
    "# Use pd.cut()\n",
    "bins_rad = None"
   ]
  },
  {
   "cell_type": "code",
   "execution_count": null,
   "metadata": {},
   "outputs": [],
   "source": [
    "# Using pd.cut() returns unordered categories. Transform this to ordered categories \n",
    "bins_rad = None\n",
    "bins_rad.head()"
   ]
  },
  {
   "cell_type": "code",
   "execution_count": null,
   "metadata": {},
   "outputs": [],
   "source": [
    "# Inspect the result\n",
    "bins_rad.value_counts().plot(kind='bar')"
   ]
  },
  {
   "cell_type": "code",
   "execution_count": null,
   "metadata": {},
   "outputs": [],
   "source": [
    "# Replace the existing 'RAD' column\n",
    "boston_df['RAD'] = bins_rad"
   ]
  },
  {
   "cell_type": "markdown",
   "metadata": {},
   "source": [
    "### TAX"
   ]
  },
  {
   "cell_type": "markdown",
   "metadata": {},
   "source": [
    "Split the `TAX` column up in 5 categories. You can chose the bins as desired but make sure they're pretty well-balanced."
   ]
  },
  {
   "cell_type": "code",
   "execution_count": null,
   "metadata": {},
   "outputs": [],
   "source": [
    "# Repeat everything for \"TAX\""
   ]
  },
  {
   "cell_type": "markdown",
   "metadata": {},
   "source": [
    "## Perform label encoding "
   ]
  },
  {
   "cell_type": "code",
   "execution_count": null,
   "metadata": {},
   "outputs": [],
   "source": [
    "# Perform label encoding and replace in boston_df\n"
   ]
  },
  {
   "cell_type": "code",
   "execution_count": null,
   "metadata": {},
   "outputs": [],
   "source": [
    "# Inspect first few columns"
   ]
  },
  {
   "cell_type": "markdown",
   "metadata": {},
   "source": [
    "## Create dummy variables"
   ]
  },
  {
   "cell_type": "markdown",
   "metadata": {},
   "source": [
    "Create dummy variables, and make sure their column names contain `'TAX'` and `'RAD'` remembering to drop the first. Add the new dummy variables to `boston_df` and remove the old `'TAX'` and `'RAD'` columns."
   ]
  },
  {
   "cell_type": "code",
   "execution_count": null,
   "metadata": {},
   "outputs": [],
   "source": [
    "# Create dummpy variables for TAX and RAD columns\n"
   ]
  },
  {
   "cell_type": "markdown",
   "metadata": {},
   "source": [
    "Note how you end up with 19 columns now!"
   ]
  },
  {
   "cell_type": "markdown",
   "metadata": {},
   "source": [
    "## Summary\n",
    "\n",
    "In this lab, you practiced your knowledge of categorical variables on the Boston Housing dataset!"
   ]
  }
 ],
 "metadata": {
  "kernelspec": {
   "display_name": "Python 3",
   "language": "python",
   "name": "python3"
  },
  "language_info": {
   "codemirror_mode": {
    "name": "ipython",
    "version": 3
   },
   "file_extension": ".py",
   "mimetype": "text/x-python",
   "name": "python",
   "nbconvert_exporter": "python",
   "pygments_lexer": "ipython3",
   "version": "3.6.6"
  }
 },
 "nbformat": 4,
 "nbformat_minor": 2
}
